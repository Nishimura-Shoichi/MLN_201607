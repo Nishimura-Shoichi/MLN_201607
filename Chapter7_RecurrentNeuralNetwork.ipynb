{
 "cells": [
  {
   "cell_type": "markdown",
   "metadata": {
    "slideshow": {
     "slide_type": "slide"
    }
   },
   "source": [
    "# 「深層学習」読書会　〜第7章〜"
   ]
  },
  {
   "cell_type": "markdown",
   "metadata": {},
   "source": [
    "<p style=\"text-align:center;font-size:150%;line-height:150%\">2016/07/02 機械学習 名古屋 第5回勉強会</p>"
   ]
  },
  {
   "cell_type": "markdown",
   "metadata": {
    "slideshow": {
     "slide_type": "slide"
    }
   },
   "source": [
    "## 第7章 再帰型ニューラルネット"
   ]
  },
  {
   "cell_type": "markdown",
   "metadata": {
    "slideshow": {
     "slide_type": "slide"
    }
   },
   "source": [
    "### 7.1 系列データの分類"
   ]
  },
  {
   "cell_type": "markdown",
   "metadata": {
    "slideshow": {
     "slide_type": "notes"
    }
   },
   "source": []
  },
  {
   "cell_type": "markdown",
   "metadata": {
    "slideshow": {
     "slide_type": "slide"
    }
   },
   "source": [
    "### 7.2 RNNの構造"
   ]
  },
  {
   "cell_type": "code",
   "execution_count": 1,
   "metadata": {
    "collapsed": true,
    "slideshow": {
     "slide_type": "skip"
    }
   },
   "outputs": [],
   "source": [
    "from graphviz import Digraph"
   ]
  },
  {
   "cell_type": "code",
   "execution_count": null,
   "metadata": {
    "collapsed": true,
    "slideshow": {
     "slide_type": "skip"
    }
   },
   "outputs": [],
   "source": [
    "# fig_6_3 = Digraph(\"fig_6_3\", format=\"svg\")\n",
    "\n",
    "# fig_6_3.body.extend(['rankdir=LR'])\n",
    "\n",
    "# c1 = Digraph('cluster_1')\n",
    "# c1.body.append('style=filled')\n",
    "# c1.body.append('color=white')\n",
    "# c1.node_attr.update(shape='box', style='rounded,filled', color='white', penwidth='2')\n",
    "# c1.attr('edge', color=\"#737373\")\n",
    "# c1.edges([('input', 'conv0'), ('conv0', 'conv1'), ('conv1', 'pooling1'), ('pooling1', 'lcm1')])\n",
    "# c1.node('input', 'input (image)', fillcolor=\"#b3ffff\", color=\"#009999\")\n",
    "# c1.node('conv0', 'convolution', fillcolor=\"#fb8072\", color=\"#941305\")\n",
    "# c1.node('conv1', 'convolution', fillcolor=\"#fb8072\", color=\"#941305\")\n",
    "# c1.node('pooling1', 'pooling', fillcolor=\"#80b1d3\", color=\"#275372\")\n",
    "# c1.node('lcm1', 'LCM', fillcolor=\"#eeeeee\", color=\"#808080\")\n",
    "\n",
    "# c2 = Digraph('cluster_2')\n",
    "# c2.body.append('style=filled')\n",
    "# c2.body.append('color=white')\n",
    "# c2.node_attr.update(shape='box', style='rounded,filled', color='white', penwidth='2')\n",
    "# c2.attr('edge', color=\"#737373\")\n",
    "# c2.edges([('conv2', 'pooling2'), ('pooling2', 'fc1'), ('fc1', 'fc2'), ('fc2', 'softmax'), ('softmax', 'output')])\n",
    "# c2.node('conv2', 'convolution', fillcolor=\"#fb8072\", color=\"#941305\")\n",
    "# c2.node('pooling2', 'pooling', fillcolor=\"#80b1d3\", color=\"#275372\")\n",
    "# c2.node('fc1', 'fully-\\nconnected', fillcolor=\"#ffffb3\", color=\"#999900\")\n",
    "# c2.node('fc2', 'fully-\\nconnected', fillcolor=\"#ffffb3\", color=\"#999900\")\n",
    "# c2.node('softmax', 'softmax', fillcolor=\"#b3de69\", color=\"#597d1c\")\n",
    "# c2.node('output', 'output (label)', fillcolor=\"#b3ffff\", color=\"#009999\")\n",
    "\n",
    "# fig_6_3.subgraph(c1)\n",
    "# fig_6_3.subgraph(c2)\n",
    "\n",
    "# fig_6_3.attr('edge', color=\"#737373\")\n",
    "\n",
    "# fig_6_3.edge('conv2', 'lcm1', dir=\"back\", minlen=\"4\")\n"
   ]
  },
  {
   "cell_type": "code",
   "execution_count": null,
   "metadata": {
    "collapsed": false,
    "slideshow": {
     "slide_type": "subslide"
    }
   },
   "outputs": [],
   "source": [
    "# fig_6_3"
   ]
  },
  {
   "cell_type": "markdown",
   "metadata": {
    "slideshow": {
     "slide_type": "slide"
    }
   },
   "source": [
    "### 7.3 順伝播計算"
   ]
  },
  {
   "cell_type": "markdown",
   "metadata": {
    "slideshow": {
     "slide_type": "subslide"
    }
   },
   "source": []
  },
  {
   "cell_type": "markdown",
   "metadata": {
    "slideshow": {
     "slide_type": "slide"
    }
   },
   "source": [
    "### 7.4 逆伝播計算"
   ]
  },
  {
   "cell_type": "markdown",
   "metadata": {
    "slideshow": {
     "slide_type": "subslide"
    }
   },
   "source": []
  },
  {
   "cell_type": "markdown",
   "metadata": {
    "slideshow": {
     "slide_type": "slide"
    }
   },
   "source": [
    "### 7.5 長・短期記憶（LSTM）"
   ]
  },
  {
   "cell_type": "markdown",
   "metadata": {
    "slideshow": {
     "slide_type": "subslide"
    }
   },
   "source": [
    "#### 7.5.1 RNN の勾配消失問題"
   ]
  },
  {
   "cell_type": "markdown",
   "metadata": {
    "slideshow": {
     "slide_type": "subslide"
    }
   },
   "source": [
    "#### 7.5.2 LSTM の概要"
   ]
  },
  {
   "cell_type": "markdown",
   "metadata": {
    "slideshow": {
     "slide_type": "subslide"
    }
   },
   "source": [
    "#### 7.5.3 順伝播計算"
   ]
  },
  {
   "cell_type": "markdown",
   "metadata": {
    "slideshow": {
     "slide_type": "subslide"
    }
   },
   "source": [
    "#### 7.5.4 逆伝播計算"
   ]
  },
  {
   "cell_type": "markdown",
   "metadata": {
    "slideshow": {
     "slide_type": "slide"
    }
   },
   "source": [
    "### 7.6 入出力間で系列長が異なる場合"
   ]
  },
  {
   "cell_type": "markdown",
   "metadata": {
    "slideshow": {
     "slide_type": "subslide"
    }
   },
   "source": [
    "#### 7.6.1 隠れマルコフモデル"
   ]
  },
  {
   "cell_type": "markdown",
   "metadata": {
    "slideshow": {
     "slide_type": "subslide"
    }
   },
   "source": [
    "#### 7.6.2 コネクショニスト時系列分類法"
   ]
  },
  {
   "cell_type": "markdown",
   "metadata": {},
   "source": [
    "《略》"
   ]
  }
 ],
 "metadata": {
  "celltoolbar": "Slideshow",
  "kernelspec": {
   "display_name": "TensorFlow v0.8 (Python 3)",
   "language": "python",
   "name": "tensorflow08"
  },
  "language_info": {
   "codemirror_mode": {
    "name": "ipython",
    "version": 3
   },
   "file_extension": ".py",
   "mimetype": "text/x-python",
   "name": "python",
   "nbconvert_exporter": "python",
   "pygments_lexer": "ipython3",
   "version": "3.5.1"
  }
 },
 "nbformat": 4,
 "nbformat_minor": 0
}
